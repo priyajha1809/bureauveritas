{
 "cells": [
  {
   "cell_type": "code",
   "execution_count": null,
   "id": "47b9862c",
   "metadata": {},
   "outputs": [],
   "source": [
    "value=10\n",
    "print(type(value))\n",
    "value=[10]\n",
    "print(type(value))\n",
    "value=()\n",
    "print(type(value))\n",
    "value=(10)\n",
    "print(type(value))\n",
    "value=(10,) \n",
    "print(type(value))\n",
    "value=10,20,30 # tuple # Note: use comma operator to create a tuple\n",
    "# using () is optional for tuple!!\n",
    "print(type(value))\n",
    "value={}\n",
    "print(type(value))\n",
    "value={10:\"sachin\"}\n",
    "print(type(value))\n",
    "value={10}\n",
    "print(type(value))\n",
    "value=set()\n",
    "print(type(value))"
   ]
  },
  {
   "cell_type": "code",
   "execution_count": null,
   "id": "658f0953",
   "metadata": {},
   "outputs": [],
   "source": [
    "print(dir(dict))"
   ]
  },
  {
   "cell_type": "code",
   "execution_count": null,
   "id": "2dd679e4",
   "metadata": {},
   "outputs": [],
   "source": [
    "cricketers={10:\"sachin\",7:\"dhoni\",18:\"virat\",45:\"rohit\"}\n",
    "print(cricketers)\n",
    "print(cricketers.get(10),cricketers[10])\n",
    "print(cricketers.get(333))\n",
    "try:\n",
    "    print(cricketers[333])\n",
    "except KeyError:\n",
    "    print(\"Key is not present!\")\n",
    "    \n",
    "cricketers[333]=\"Gayle\" # Note: add a key which is not present then key and value both get added!\n",
    "cricketers[10]=\"sehwag\" # Note: if key is already present then value gets update!\n",
    "print(cricketers)\n",
    "\n",
    "mycricketers={\"shane\":23,\"murli\":800}\n",
    "print(mycricketers)\n",
    "cricketers.update(mycricketers)\n",
    "print(cricketers)\n",
    "print(mycricketers)\n",
    "mycricketers=cricketers.copy()\n",
    "cricketers.clear()\n",
    "print(cricketers)\n",
    "print(mycricketers)\n",
    "print(\"Poped cricketer is \",mycricketers.pop(10))\n",
    "player,jersey=mycricketers.popitem()\n",
    "print(f\"Poped cricketer is {player} with {jersey} jersey!\")\n",
    "print(mycricketers)\n",
    "print(mycricketers.keys()) # list of only keys!\n",
    "print(mycricketers.values())\n",
    "print(mycricketers.items()) # Note: items will return list of tuples [(key1:value1),(key2:value2)...]"
   ]
  },
  {
   "cell_type": "code",
   "execution_count": null,
   "id": "b710c916",
   "metadata": {},
   "outputs": [],
   "source": [
    "players=[\"sachin\",\"dhoni\",\"sehwag\",\"virat\"]\n",
    "cricketers=dict.fromkeys(players)\n",
    "print(cricketers)\n",
    "cricketers[\"sachin\"]=10\n",
    "cricketers[\"dhoni\"]=7\n",
    "cricketers[\"sehwag\"]=99\n",
    "cricketers[\"virat\"]=18\n",
    "cricketers.setdefault(\"gayle\",333)\n",
    "cricketers.setdefault(\"virat\",999)\n",
    "print(cricketers)"
   ]
  },
  {
   "cell_type": "code",
   "execution_count": null,
   "id": "0ed7d4e3",
   "metadata": {},
   "outputs": [],
   "source": [
    "sensex={\"hdfc\":{\"current\":1000,\"low\":900,\"high\":1200},\n",
    "        \"accenture\":{\"current\":900,\"low\":700,\"high\":1500},\n",
    "        \"sun pharma\":{\"current\":90,\"low\":40,\"high\":150},\n",
    "        \"olectra\":{\"current\":5000,\"low\":500,\"high\":7000}\n",
    "        }\n",
    "print(\"Todays sensex for olectra is \",sensex[\"olectra\"],type(sensex))\n",
    "print(\"Todays high price for accenture is \",sensex[\"accenture\"][\"high\"],type(sensex))"
   ]
  },
  {
   "cell_type": "code",
   "execution_count": null,
   "id": "98e2ba1a",
   "metadata": {},
   "outputs": [],
   "source": [
    "# set is unordered mutable collection of unique heterogeous elements\n",
    "# The elements that you add within set have to be immutable but set is mutable!\n",
    "# set can only contain int/float/str/bool/complex/None/tuple (immtubale elements)\n",
    "# set cannot contain dict/list/set (mutable elements)"
   ]
  },
  {
   "cell_type": "code",
   "execution_count": null,
   "id": "702ce335",
   "metadata": {},
   "outputs": [],
   "source": [
    "myset={10,5.6,\"india\",True,(10+4j),None,(100,200,400),10,10}\n",
    "print(myset,type(myset))\n",
    "print(dir(set))\n",
    "myset.add(\"wipro\")\n",
    "print(myset)"
   ]
  },
  {
   "cell_type": "code",
   "execution_count": null,
   "id": "dcd31272",
   "metadata": {},
   "outputs": [],
   "source": [
    "list1=[10,20,30,10,20,30,40,50]\n",
    "print(list1)\n",
    "set1=set(list1)\n",
    "print(set1)\n",
    "list1=list(set1)\n",
    "print(list1)"
   ]
  },
  {
   "cell_type": "code",
   "execution_count": null,
   "id": "ad1fc8fe",
   "metadata": {},
   "outputs": [],
   "source": [
    "companies={\"tcs\",\"wipro\",\"techm\"}\n",
    "print(companies,id(companies))\n",
    "companies.add(\"renishaw\")\n",
    "companies.add(\"john deere\")\n",
    "print(companies)\n",
    "companies.remove(\"techm\")\n",
    "companies.discard(\"renishaw\")\n",
    "try:\n",
    "    companies.remove(\"ibm\")\n",
    "except:\n",
    "    print(\"Value is not there in set!!!\")\n",
    "companies.discard(\"mastercard\")\n",
    "print(companies,id(companies))\n",
    "print(\"Poped company is \",companies.pop())\n",
    "\n",
    "for company in companies:\n",
    "    print(company)\n",
    "    \n",
    "itcompanies={\"cognizant\",\"bv\",\"hcl\",\"dassault systemes\",\"eaton\"}\n",
    "companies.update(itcompanies)\n",
    "print(companies)"
   ]
  },
  {
   "cell_type": "code",
   "execution_count": null,
   "id": "78893a47",
   "metadata": {},
   "outputs": [],
   "source": [
    "print(dir(set))"
   ]
  },
  {
   "cell_type": "code",
   "execution_count": null,
   "id": "4eeb63be",
   "metadata": {},
   "outputs": [],
   "source": [
    "indian={\"virat\",\"rohit\",\"bumrah\",\"hardik\",\"ashwin\",\"shami\"}\n",
    "australia={\"smith\",\"pat cummins\",\"maxwell\",\"starc\",\"mcgrath\",\"warne\"}\n",
    "westindies={\"pollard\",\"bravo\",\"gayle\",\"russel\",\"marshall\"}\n",
    "Batters={\"virat\",\"rohit\",\"hardik\",\"smith\",\"maxwell\",\"pollard\",\"gayle\",\"russel\"}\n",
    "cricketers={\"virat\",\"rohit\",\"bumrah\",\"hardik\",\"ashwin\",\"shami\",\n",
    "           \"smith\",\"pat cummins\",\"maxwell\",\"starc\",\"mcgrath\",\"warne\",\n",
    "            \"pollard\",\"bravo\",\"gayle\",\"russel\",\"marshall\"\n",
    "           }\n",
    "print(cricketers.issuperset(indian))\n",
    "print(indian.issubset(cricketers))\n",
    "print(indian.isdisjoint(australia))\n",
    "print(indian.isdisjoint(cricketers))\n",
    "print(\"Indian batters are \",indian.intersection(Batters))\n",
    "print(indian.union(australia).union(westindies)==cricketers)\n",
    "print(\"Indian bowlers are \",indian.difference(Batters))\n",
    "print(\"collection without indian batters are \",indian.symmetric_difference(Batters))"
   ]
  },
  {
   "cell_type": "code",
   "execution_count": null,
   "id": "9661ab23",
   "metadata": {},
   "outputs": [],
   "source": [
    "# control statements\n",
    "# 1. sequential\n",
    "# 2. conditional\n",
    "     #(a) selection (branching)\n",
    "      # if: else: elif: \n",
    "     #(b) iteration (looping)\n",
    "      # while: for: \n",
    "# 3. unconditional \n",
    "     # break continue"
   ]
  },
  {
   "cell_type": "code",
   "execution_count": null,
   "id": "e1e395bd",
   "metadata": {},
   "outputs": [],
   "source": [
    "# note: () == : and {} == indent/outdent code!\n",
    "#if condition:\n",
    "    #print(\"inside if\")\n",
    "#print(\"outside if\")"
   ]
  },
  {
   "cell_type": "code",
   "execution_count": null,
   "id": "d02ec2a7",
   "metadata": {},
   "outputs": [],
   "source": [
    "var1,var2=100,200\n",
    "# relational operators  > < >= <= == !=\n",
    "\"\"\"\n",
    "if var1 > var2:\n",
    "    print(f\"{var1} is greater\")\n",
    "else:\n",
    "    print(f\"{var2} is greater\")\n",
    "\"\"\"\n",
    "print(f\"max is {max(var1,var2)}\")"
   ]
  },
  {
   "cell_type": "code",
   "execution_count": null,
   "id": "b2a38cea",
   "metadata": {},
   "outputs": [],
   "source": [
    "#var1,var2,var3=100,200,300\n",
    "# logical operator and or \n",
    "var1=int(input(\"Enter first value \"))\n",
    "var2=int(input(\"Enter second value \"))\n",
    "var3=int(input(\"Enter thrid value \"))\n",
    "if var1 > var2 and var1 > var3 :\n",
    "    print(f\"{var1} is greater\")\n",
    "elif var2 > var1 and var2 > var3:\n",
    "    print(f\"{var2} is greater\")\n",
    "else:\n",
    "    print(f\"{var3} is greater\")\n",
    "print(f\"max is {max(var1,var2,var3)}\")"
   ]
  },
  {
   "cell_type": "code",
   "execution_count": null,
   "id": "735b38a8",
   "metadata": {},
   "outputs": [],
   "source": [
    "var1,var2,var3=3,3,3\n",
    "if var1 == var2 == and var2==var3 :\n",
    "    print(f\"{var1} is equal\")"
   ]
  },
  {
   "cell_type": "code",
   "execution_count": null,
   "id": "89577382",
   "metadata": {},
   "outputs": [],
   "source": [
    "# any(collection) all(collection)\n",
    "if 10 < 30 and  100 > 50 and 500 > 100:\n",
    "    print(\"and requires all conditions to be True\")\n",
    "if all({10 < 30,100 > 50,500 > 100}):\n",
    "    print(\"and requires all conditions to be True\")\n",
    "if 10 < 30 or 100 > 500 or 500 > 100:\n",
    "    print(\"or requires one conditions to be True\")\n",
    "if any({10 < 30,100 > 50,500 > 100}):\n",
    "    print(\"or requires one conditions to be True\")"
   ]
  },
  {
   "cell_type": "code",
   "execution_count": null,
   "id": "eea2e37b",
   "metadata": {},
   "outputs": [],
   "source": [
    "var1,var2,var3=10,20,30\n",
    "\n",
    "if var1 > var2:\n",
    "    if var1 > var3:\n",
    "        print(f\" {var1} is greater\")\n",
    "    else:\n",
    "        print(f\" {var3} is greater\")\n",
    "else:\n",
    "    if var2 > var3:\n",
    "        print(f\"{var2} is greater\")\n",
    "    else:\n",
    "        print(f\"{var3} is greater\")\n",
    "print(f\"max is {max(var1,var2,var3)}\")"
   ]
  },
  {
   "cell_type": "code",
   "execution_count": null,
   "id": "94c7eecc",
   "metadata": {},
   "outputs": [],
   "source": [
    "# identity operator is / is not (datatypes)\n",
    "# membership operator in / not in (values)\n",
    "\n",
    "employees=(\"hemant\",\"govind\")\n",
    "emp_ids=[100,200,300]\n",
    "if type(employees) is tuple:\n",
    "    print(\"You are using tuple\")\n",
    "if type(emp_ids) is not tuple:\n",
    "    print(\"You are not using tuple for sure!\")"
   ]
  },
  {
   "cell_type": "code",
   "execution_count": null,
   "id": "8557c86e",
   "metadata": {},
   "outputs": [],
   "source": [
    "# search value in collection \n",
    "admin_users=[\"root\",\"admin\",\"adminstrator\"]\n",
    "username=input(\"Enter user name \")\n",
    "if username in admin_users:\n",
    "    print(\"You have admin privileges!\")\n",
    "else:\n",
    "    print(\"You have guest privileges\")"
   ]
  },
  {
   "cell_type": "code",
   "execution_count": null,
   "id": "99660364",
   "metadata": {},
   "outputs": [],
   "source": [
    "versions=[3.6,3.7,3.8,3.9]\n",
    "current_version=float(input(\"Enter your version \"))\n",
    "if current_version in versions:\n",
    "    print(\"You can use f-strings\")\n",
    "else:\n",
    "    print(\"Use str.format()\")\n",
    "    "
   ]
  },
  {
   "cell_type": "code",
   "execution_count": null,
   "id": "93544da7",
   "metadata": {},
   "outputs": [],
   "source": [
    "import math\n",
    "num=int(input(\"Enter the number \"))\n",
    "\"\"\"\n",
    "fact=1\n",
    "while num > 0:\n",
    "    fact*=num\n",
    "    num-=1\n",
    "print(\"factorial is \",fact)\n",
    "\"\"\"\n",
    "print(\"factorial is \",math.factorial(num)) # pythonic way use functions!!!"
   ]
  },
  {
   "cell_type": "code",
   "execution_count": null,
   "id": "3ec0ed4a",
   "metadata": {},
   "outputs": [],
   "source": [
    "import sympy\n",
    "\n",
    "num=int(input(\"Enter the number \"))\n",
    "\"\"\"\n",
    "i=2\n",
    "while num > i:\n",
    "    if num % i == 0:\n",
    "        print(\"Not Prime number\")\n",
    "        break\n",
    "    i+=1\n",
    "if num==i:\n",
    "    print(\"prime\")\n",
    "\"\"\"\n",
    "if sympy.isprime(num):\n",
    "    print(\"prime\")\n",
    "else:\n",
    "    print(\"Not prime\")"
   ]
  },
  {
   "cell_type": "code",
   "execution_count": 18,
   "id": "073883d1",
   "metadata": {},
   "outputs": [
    {
     "name": "stdout",
     "output_type": "stream",
     "text": [
      "10 20 30 40 50  \n",
      "10 20 30 40 50  \n",
      "50 20 40 10 30  \n",
      "karnataka maharastra tamilnadu  \n",
      "karnataka maharastra tamilnadu  \n",
      "bengaluru mumbai chennai  \n",
      "bengaluru mumbai chennai  \n",
      "dict_items([('karnataka', 'bengaluru'), ('maharastra', 'mumbai'), ('tamilnadu', 'chennai')])\n",
      "bengaluru is in karnataka\n",
      "mumbai is in maharastra\n",
      "chennai is in tamilnadu\n",
      " \n",
      "bengaluru is in karnataka state\n",
      "mumbai is in maharastra state\n",
      "chennai is in tamilnadu state\n"
     ]
    }
   ],
   "source": [
    "list1=[10,20,30,40,50]\n",
    "for item in list1: \n",
    "    print(item,end=\" \")\n",
    "print(\" \")\n",
    "tuple1=(10,20,30,40,50)\n",
    "for item in tuple1:\n",
    "    print(item,end=\" \")\n",
    "print(\" \")\n",
    "set1={10,20,30,40,50}\n",
    "for item in set1:\n",
    "    print(item,end=\" \")\n",
    "print(\" \")\n",
    "states={\"karnataka\":\"bengaluru\",\"maharastra\":\"mumbai\",\"tamilnadu\":\"chennai\"}\n",
    "for city in states: # only keys\n",
    "    print(city,end=\" \")\n",
    "print(\" \")  \n",
    "for city in states.keys(): # only keys\n",
    "    print(city,end=\" \")\n",
    "print(\" \")\n",
    "for city in states: # only values\n",
    "    print(states[city],end=\" \")\n",
    "print(\" \")\n",
    "for city in states.values(): # only values\n",
    "    print(city,end=\" \")\n",
    "print(\" \")\n",
    "print(states.items())\n",
    "for city in states.items(): # [(\"karnataka\",\"bengaluru\")...]\n",
    "    print(f\"{city[1]} is in {city[0]}\") # unpacked tuple\n",
    "print(\" \")\n",
    "for state,city in states.items(): # [(\"karnataka\",\"bengaluru\")...]\n",
    "    print(f\"{city} is in {state} state\") # unpacked tuple"
   ]
  },
  {
   "cell_type": "code",
   "execution_count": 32,
   "id": "29f825a5",
   "metadata": {},
   "outputs": [
    {
     "name": "stdout",
     "output_type": "stream",
     "text": [
      "<enumerate object at 0x000001B631609400>\n",
      "[(0, 10), (1, 20), (2, 30), (3, 40), (4, 50)]\n",
      "((0, 10), (1, 20), (2, 30), (3, 40), (4, 50))\n",
      "{(3, 40), (0, 10), (1, 20), (4, 50), (2, 30)}\n",
      " \n",
      "0 10\n",
      "1 20\n",
      "2 30\n",
      "3 40\n",
      "4 50\n",
      " \n",
      "0 10\n",
      "1 20\n",
      "2 30\n",
      "3 40\n",
      "4 50\n",
      " \n",
      "(0, 10)\n",
      "(1, 20)\n",
      "(2, 30)\n",
      "(3, 40)\n",
      "(4, 50)\n"
     ]
    },
    {
     "ename": "StopIteration",
     "evalue": "",
     "output_type": "error",
     "traceback": [
      "\u001b[1;31m---------------------------------------------------------------------------\u001b[0m",
      "\u001b[1;31mStopIteration\u001b[0m                             Traceback (most recent call last)",
      "Input \u001b[1;32mIn [32]\u001b[0m, in \u001b[0;36m<cell line: 30>\u001b[1;34m()\u001b[0m\n\u001b[0;32m     28\u001b[0m \u001b[38;5;28mprint\u001b[39m(\u001b[38;5;28mnext\u001b[39m(ref))\n\u001b[0;32m     29\u001b[0m \u001b[38;5;28mprint\u001b[39m(\u001b[38;5;28mnext\u001b[39m(ref))\n\u001b[1;32m---> 30\u001b[0m \u001b[38;5;28mprint\u001b[39m(\u001b[38;5;28;43mnext\u001b[39;49m\u001b[43m(\u001b[49m\u001b[43mref\u001b[49m\u001b[43m)\u001b[49m)\n",
      "\u001b[1;31mStopIteration\u001b[0m: "
     ]
    }
   ],
   "source": [
    "list1=[10,20,30,40,50]\n",
    "\"\"\"\n",
    "index=0\n",
    "for item in list1:\n",
    "    print(index,item)\n",
    "    index+=1\n",
    "\"\"\"\n",
    "print(enumerate(list1))\n",
    "\n",
    "# Note: There are 3 ways to access values from generator \n",
    "# 1. use conversion function to check the values in generator\n",
    "print(list(enumerate(list1))) \n",
    "print(tuple(enumerate(list1))) \n",
    "print(set(enumerate(list1))) \n",
    "print(\" \")\n",
    "# 2. use for loop to access all values from generator\n",
    "for record in enumerate(list1):\n",
    "    print(record[0],record[1])\n",
    "print(\" \")\n",
    "for index,value in enumerate(list1):\n",
    "    print(index,value)\n",
    "print(\" \")\n",
    "# 3. use next() to access one value from generator every time\n",
    "ref=enumerate(list1)\n",
    "print(next(ref))\n",
    "print(next(ref))\n",
    "print(next(ref))\n",
    "print(next(ref))\n",
    "print(next(ref))\n",
    "print(next(ref))"
   ]
  },
  {
   "cell_type": "code",
   "execution_count": 48,
   "id": "aba37bd4",
   "metadata": {},
   "outputs": [
    {
     "name": "stdout",
     "output_type": "stream",
     "text": [
      "range(0, 6)\n",
      "[0, 1, 2, 3, 4, 5]\n",
      "(0, 1, 2, 3, 4, 5)\n",
      "{0, 1, 2, 3, 4, 5}\n",
      "0 1 2 3 4 5  \n",
      "0\n",
      "1\n",
      "2\n",
      "3\n"
     ]
    }
   ],
   "source": [
    "print(range(6)) # note: range() is a builtin generator in python\n",
    "\n",
    "print(list(range(6)))\n",
    "print(tuple(range(6)))\n",
    "print(set(range(6)))\n",
    "\n",
    "for item in range(6):\n",
    "    print(item,end=\" \")\n",
    "print(\" \")\n",
    "ref=iter(range(6))\n",
    "print(next(ref))\n",
    "print(next(ref))\n",
    "print(next(ref))\n",
    "print(next(ref))\n",
    "# for loop and next (iterators) work on iterables(collections) as well as generators both!!!"
   ]
  },
  {
   "cell_type": "code",
   "execution_count": 40,
   "id": "7f761e40",
   "metadata": {},
   "outputs": [
    {
     "name": "stdout",
     "output_type": "stream",
     "text": [
      "10 20 30 40 50  \n",
      "10 20 30 40 50 "
     ]
    }
   ],
   "source": [
    "list1=[10,20,30,40,50]\n",
    "\n",
    "for item in list1:\n",
    "    print(item,end=\" \")\n",
    "print(\" \")\n",
    "for item in range(10,51,10): # (start:next_to_last:step_count)\n",
    "    print(item,end=\" \")"
   ]
  },
  {
   "cell_type": "code",
   "execution_count": 44,
   "id": "e05855a5",
   "metadata": {},
   "outputs": [
    {
     "name": "stdout",
     "output_type": "stream",
     "text": [
      "5 7 9 11 13 15 "
     ]
    }
   ],
   "source": [
    "for item in range(5,16,2):\n",
    "    print(item,end=\" \")"
   ]
  },
  {
   "cell_type": "code",
   "execution_count": 53,
   "id": "3609058f",
   "metadata": {},
   "outputs": [
    {
     "name": "stdout",
     "output_type": "stream",
     "text": [
      "0 10\n",
      "1 20\n",
      "2 30\n",
      "3 40\n",
      "4 50\n",
      "0 10\n",
      "1 20\n",
      "2 30\n",
      "3 40\n",
      "4 50\n"
     ]
    }
   ],
   "source": [
    "list1=[10,20,30,40,50]\n",
    "\n",
    "for item in range(len(list1)): # C style \n",
    "    print(item,list1[item])\n",
    "    \n",
    "for index,item in enumerate(list1): # pythonic way\n",
    "    print(index,item)"
   ]
  },
  {
   "cell_type": "code",
   "execution_count": 2,
   "id": "d35486d5",
   "metadata": {},
   "outputs": [
    {
     "name": "stdout",
     "output_type": "stream",
     "text": [
      "Enter your current location kothrud\n",
      "['barometer', 'prithvi', 'abhishek veg']\n"
     ]
    }
   ],
   "source": [
    "restaurants=[\n",
    "                {\"name\":\"barometer\",\"address\":\"kothrud\"},\n",
    "                {\"name\":\"abc farms\",\"address\":\"kalyani nagar\"},\n",
    "                {\"name\":\"good luck\",\"address\":\"deccan\"},\n",
    "                {\"name\":\"prithvi\",\"address\":\"kothrud\"},\n",
    "                {\"name\":\"abhishek veg\",\"address\":\"kothrud\"}\n",
    "            ]\n",
    "\n",
    "current_location=input(\"Enter your current location \")\n",
    "\n",
    "#resto_nearby=[]\n",
    "#for resto in restaurants:\n",
    "    #print(resto,type(resto),type(restaurants))\n",
    "    #if current_location == resto[\"address\"]:\n",
    "        #resto_nearby.append(resto[\"name\"])\n",
    "resto_nearby=[resto[\"name\"] for resto in restaurants if current_location == resto[\"address\"]]\n",
    "if any(resto_nearby):\n",
    "    print(resto_nearby)\n",
    "else:\n",
    "    print(\"Kindly try a different location!\")"
   ]
  },
  {
   "cell_type": "code",
   "execution_count": null,
   "id": "27dfd69c",
   "metadata": {},
   "outputs": [],
   "source": []
  }
 ],
 "metadata": {
  "kernelspec": {
   "display_name": "Python 3 (ipykernel)",
   "language": "python",
   "name": "python3"
  },
  "language_info": {
   "codemirror_mode": {
    "name": "ipython",
    "version": 3
   },
   "file_extension": ".py",
   "mimetype": "text/x-python",
   "name": "python",
   "nbconvert_exporter": "python",
   "pygments_lexer": "ipython3",
   "version": "3.9.12"
  }
 },
 "nbformat": 4,
 "nbformat_minor": 5
}
