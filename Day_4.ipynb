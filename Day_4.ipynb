{
 "cells": [
  {
   "cell_type": "code",
   "execution_count": null,
   "id": "cdd62d2a",
   "metadata": {},
   "outputs": [],
   "source": [
    "# comprehensions (pythonic way)\n",
    "# offer shorter syntax to create new collection based on existing collections!\n",
    "# list / set / dict comprehensions \n",
    "# Note: There is no tuple comprehension! It becomes a generator!"
   ]
  },
  {
   "cell_type": "code",
   "execution_count": null,
   "id": "43f57353",
   "metadata": {},
   "outputs": [],
   "source": [
    "\"\"\"\n",
    "list1=[]\n",
    "for item in range(1,6):\n",
    "    list1.append(item)\n",
    "\"\"\"\n",
    "list1=[item for item in range(1,6)] # pythonic style!\n",
    "print(list1)\n",
    "list1=[0 for item in range(1,6)] # pythonic style!\n",
    "print(list1)\n",
    "list1=[item*item for item in range(1,6)] # pythonic style!\n",
    "print(list1)\n",
    "list1=[item*item*item for item in range(1,6)] # pythonic style!\n",
    "print(list1)"
   ]
  },
  {
   "cell_type": "code",
   "execution_count": null,
   "id": "06b4fa75",
   "metadata": {},
   "outputs": [],
   "source": [
    "players=[\"ViRaT\",\"bumRAH\",\"RohiT\",\"klRahul\"]\n",
    "\n",
    "players_lowercase=[player.lower() for player in players ]\n",
    "\n",
    "your_player=input(\"Enter your player \")\n",
    "\n",
    "if your_player.lower() in players_lowercase:\n",
    "    print(\"Your player is playing today\")\n",
    "else:\n",
    "    print(\"your player has to wait for next tournament!\")"
   ]
  },
  {
   "cell_type": "code",
   "execution_count": null,
   "id": "6eedf5a1",
   "metadata": {},
   "outputs": [],
   "source": [
    "\"\"\"\n",
    "evens=[]\n",
    "for num in range(1,21):\n",
    "    if num%2==0:\n",
    "        evens.append(num)\n",
    "\"\"\"\n",
    "evens=[num for num in range(1,21)if num%2==0] # list conditional comprehension\n",
    "print(evens)\n",
    "evens={num for num in range(1,21)if num%2==0} # set conditional comprehension\n",
    "print(evens)"
   ]
  },
  {
   "cell_type": "code",
   "execution_count": null,
   "id": "44005f8d",
   "metadata": {},
   "outputs": [],
   "source": [
    "players=[\"ViRaT\",\"bumRAH\",\"RohiT\",\"klRahul\",\"ashwin\",\"shami\"]\n",
    "batters=[\"Virat\",\"roHit\",\"KLRAHUL\",\"gayle\",\"pollard\",\"maxwell\"]\n",
    "# Note: Do not nest comprehensions # Keep them separate!!!\n",
    "#common_cricketers=[player for player in [player.lower() for player in players] if player in [batter.lower() for batter in batters] ]\n",
    "players_lower=[player.lower() for player in players]\n",
    "batters_lower=[batter.lower() for batter in batters]\n",
    "common_cricketers=[player for player in players_lower if player in batters_lower ]\n",
    "print(common_cricketers)"
   ]
  },
  {
   "cell_type": "code",
   "execution_count": null,
   "id": "bc569002",
   "metadata": {},
   "outputs": [],
   "source": [
    "set1={item for item in range(1,6)} # set comprehension pythonic style!\n",
    "print(set1)\n",
    "set2=set([item for item in range(1,6)]) # set comprehension pythonic style!\n",
    "print(set2)"
   ]
  },
  {
   "cell_type": "code",
   "execution_count": null,
   "id": "64ad04bb",
   "metadata": {},
   "outputs": [],
   "source": [
    "players={\"ViRaT\",\"bumRAH\",\"RohiT\",\"klRahul\",\"ashwin\",\"shami\"}\n",
    "batters={\"Virat\",\"roHit\",\"KLRAHUL\",\"gayle\",\"pollard\",\"maxwell\"}\n",
    "# Note: Do not nest comprehensions # Keep them separate!!!\n",
    "#common_cricketers=[player for player in [player.lower() for player in players] if player in [batter.lower() for batter in batters] ]\n",
    "players_lower={player.lower() for player in players}\n",
    "batters_lower={batter.lower() for batter in batters}\n",
    "print(type(players_lower))\n",
    "print(players_lower.intersection(batters_lower))"
   ]
  },
  {
   "cell_type": "code",
   "execution_count": null,
   "id": "045b03c2",
   "metadata": {},
   "outputs": [],
   "source": [
    "gen1=(item for item in range(1,6))# pythonic style to create generator!\n",
    "print(gen1)\n",
    "#print(list(gen1))\n",
    "#print(list(gen1))\n",
    "print(sum(gen1))\n",
    "gen1=(item for item in range(1,6))# pythonic style to create generator!\n",
    "print(sum(gen1))\n",
    "gen1=(item for item in range(1,6))# pythonic style to create generator!\n",
    "print(sum(gen1))\n",
    "print(sum(gen1))"
   ]
  },
  {
   "cell_type": "code",
   "execution_count": null,
   "id": "3335fcbc",
   "metadata": {},
   "outputs": [],
   "source": [
    "gen1=(item for item in range(1,6))# pythonic style to create generator!\n",
    "print(gen1)\n",
    "for num in gen1:\n",
    "    print(num,end=\" \")"
   ]
  },
  {
   "cell_type": "code",
   "execution_count": null,
   "id": "5ec5edf2",
   "metadata": {},
   "outputs": [],
   "source": [
    "evens=(num for num in range(1,21)if num%2==0) # generator\n",
    "print(evens)\n",
    "for num in evens:\n",
    "    print(num,end=\" \")\n",
    "print(\" \")\n",
    "evens=(num for num in range(1,21)if num%2==0) \n",
    "print(list(evens))\n",
    "evens=(num for num in range(1,21)if num%2==0) \n",
    "print(tuple(evens))\n",
    "evens=(num for num in range(1,21)if num%2==0) \n",
    "ref=evens\n",
    "print(next(ref))\n",
    "print(next(ref))\n",
    "print(next(ref))\n",
    "print(next(ref))\n",
    "print(next(ref))"
   ]
  },
  {
   "cell_type": "code",
   "execution_count": null,
   "id": "2744e787",
   "metadata": {},
   "outputs": [],
   "source": [
    "players=[\"ViRaT\",\"bumRAH\",\"RohiT\",\"klRahul\",\"ashwin\",\"shami\"]\n",
    "batters=[\"Virat\",\"roHit\",\"KLRAHUL\",\"gayle\",\"pollard\",\"maxwell\"]\n",
    "players_lower=[player.lower() for player in players]\n",
    "batters_lower=[batter.lower() for batter in batters]\n",
    "common_cricketers=(player for player in players_lower if player in batters_lower) # generator\n",
    "for myplayer in common_cricketers:\n",
    "    print(myplayer,end=\" \")"
   ]
  },
  {
   "cell_type": "code",
   "execution_count": null,
   "id": "7c2c55f5",
   "metadata": {},
   "outputs": [],
   "source": [
    "computer_names=[\"server1\",\"desktop-1\",\"laptop-1\",\"server2\"]\n",
    "ip_address=[\"10.1.1.5\",\"192.168.10.10\",\"172.16.10.1\",\"8.8.8.8\"]\n",
    "regions=[\"mumbai\",\"ohio\",\"north-virginia\",\"noida\"]\n",
    "\n",
    "dns={computer_names[index]:ip_address[index] for index in range(len(computer_names))} # dictionary comprehension!\n",
    "print(dns)\n",
    "\n",
    "print(zip(computer_names,ip_address)) # zip returns generator\n",
    "print(dict(zip(computer_names,ip_address))) # alternative for dictionary comprehension\n",
    "print(list(zip(computer_names,ip_address))) # list of tuples\n",
    "print(tuple(zip(computer_names,ip_address))) \n",
    "\n",
    "for device,ipaddr in zip(computer_names,ip_address): # for loop on generator\n",
    "    print(f\"{device} device has ip address {ipaddr}\")"
   ]
  },
  {
   "cell_type": "code",
   "execution_count": null,
   "id": "c04281f9",
   "metadata": {},
   "outputs": [],
   "source": [
    "computer_names=[\"server1\",\"desktop-1\",\"laptop-1\",\"server2\"]\n",
    "ip_address=[\"10.1.1.5\",\"192.168.10.10\",\"172.16.10.1\",\"8.8.8.8\"]\n",
    "regions=[\"mumbai\",\"ohio\",\"north-virginia\",\"noida\"]\n",
    "\n",
    "print(tuple(zip(computer_names,ip_address,regions)))\n",
    "\n",
    "for device,ipaddr,region in zip(computer_names,ip_address,regions): # for loop on generator\n",
    "    print(f\"{device} device has ip {ipaddr} launched @ {region}\")"
   ]
  },
  {
   "cell_type": "code",
   "execution_count": null,
   "id": "b8a33f55",
   "metadata": {},
   "outputs": [],
   "source": [
    "# function which takes no args and returns None\n",
    "\n",
    "def function(): # function definition\n",
    "    print(\"function called\")\n",
    "\n",
    "function() # function call"
   ]
  },
  {
   "cell_type": "code",
   "execution_count": null,
   "id": "14c2a4d7",
   "metadata": {},
   "outputs": [],
   "source": [
    "# function taking 2 args and returning single value!\n",
    "def add(value_1,value_2):\n",
    "    return value_1+value_2\n",
    "\n",
    "print(add(100,200))\n",
    "print(add(1.23,2.67))\n",
    "print(add((40+2j),(3+10j)))\n",
    "print(add(\"sachin\",\"sehwag\"))"
   ]
  },
  {
   "cell_type": "code",
   "execution_count": null,
   "id": "3c93afe4",
   "metadata": {},
   "outputs": [],
   "source": [
    "def show_movie(actor=\"***\",movie=\"---\",year=0): #default args must be used in function definition!\n",
    "    print(f\"{actor} acts in {movie} released in {year}\")\n",
    "    \n",
    "show_movie(\"melgibson\",\"braveheart\",1995) # unamed arguments\n",
    "show_movie() "
   ]
  },
  {
   "cell_type": "code",
   "execution_count": null,
   "id": "f0796261",
   "metadata": {},
   "outputs": [],
   "source": [
    "# Note: Only trailing arguments can be defaulted!\n",
    "def add(value_1,value_2=0):\n",
    "    return value_1+value_2\n",
    "\n",
    "print(add(100))\n",
    "print(add(1.23,2.67))\n",
    "print(add((40+2j),(3+10j)))\n",
    "print(add(\"sachin\",\"sehwag\"))"
   ]
  },
  {
   "cell_type": "code",
   "execution_count": null,
   "id": "63e6cbe3",
   "metadata": {},
   "outputs": [],
   "source": [
    "def show_movie(actor,movie,year): #default args must be used in function definition!\n",
    "    print(f\"{actor} acts in {movie} released in {year}\")\n",
    "    \n",
    "show_movie(\"melgibson\",\"braveheart\",1995) # unamed arguments\n",
    "show_movie(year=1975,actor=\"stallone\",movie=\"rocky\")  # named arguments / keyword arguments"
   ]
  },
  {
   "cell_type": "code",
   "execution_count": null,
   "id": "8c917714",
   "metadata": {},
   "outputs": [],
   "source": [
    "def add(value_1,value_2):\n",
    "    return value_1+value_2\n",
    "\n",
    "print(add(100,200)) # unnamed args\n",
    "print(add(value_1=3.14,value_2=5.67)) # keyword args \n",
    "print(add((40+2j),value_2=(3+10j))) # mix of both unamed / named\n",
    "#print(add(value_1=\"sachin\",\"sehwag\")) # positional argument follows keyword argument"
   ]
  },
  {
   "cell_type": "code",
   "execution_count": null,
   "id": "498a31d4",
   "metadata": {},
   "outputs": [],
   "source": [
    "def add(*args):\n",
    "    total=0\n",
    "    for value in args:\n",
    "        total+=value\n",
    "    return total\n",
    "\n",
    "print(add(1,2,3,4,5))\n",
    "print(add())\n",
    "print(add(1,2,3,4,5,6,7,8,9,10))\n",
    "#print(add(*range(0,10)))"
   ]
  },
  {
   "cell_type": "code",
   "execution_count": null,
   "id": "d23a8c0b",
   "metadata": {},
   "outputs": [],
   "source": [
    "def show(*value_1):  # * creates a tuple to hold unnamed args\n",
    "    print(value_1)\n",
    "    for item in value_1:\n",
    "        print(item,end=\" \")\n",
    "    \n",
    "show(1,2,3,4,5)"
   ]
  },
  {
   "cell_type": "code",
   "execution_count": null,
   "id": "02d4067c",
   "metadata": {},
   "outputs": [],
   "source": [
    "def show(**value_1):  # ** creates a dictionary to hold keyword args\n",
    "    print(value_1,type(value_1))\n",
    "    \n",
    "show(x=100,y=200)"
   ]
  },
  {
   "cell_type": "code",
   "execution_count": null,
   "id": "667e4216",
   "metadata": {},
   "outputs": [],
   "source": [
    "def add(**kwargs):\n",
    "    total=0\n",
    "    print(kwargs.items())\n",
    "    for key,value in kwargs.items():\n",
    "        total+=value\n",
    "    return total\n",
    "\n",
    "print(add(x=10,y=20))\n",
    "print(add())\n",
    "print(add(value_1=1000))"
   ]
  },
  {
   "cell_type": "code",
   "execution_count": null,
   "id": "279cc5bc",
   "metadata": {},
   "outputs": [],
   "source": [
    "def add(*args,**kwargs): # tuple first and then dictionary!\n",
    "    total=0\n",
    "    for value in args:\n",
    "        total+=value\n",
    "    for key,value in kwargs.items():\n",
    "        total+=value\n",
    "    return total\n",
    "\n",
    "print(add(x=10,y=20)) # kwargs\n",
    "print(add())\n",
    "print(add(value_1=1000)) # named \n",
    "print(add(1,2,3,4,5)) # unamed\n",
    "print(add(1,value_2=100)) # mix"
   ]
  },
  {
   "cell_type": "code",
   "execution_count": null,
   "id": "461e3092",
   "metadata": {},
   "outputs": [],
   "source": [
    "def show(x,y,z):\n",
    "    print(x,y,z)\n",
    "    \n",
    "list1=[10,20,30]\n",
    "show(*list1) # 10,20,30\n",
    "\n",
    "tuple1=(10,20,30)\n",
    "show(*tuple1) # 10,20,30\n",
    "\n",
    "set1={10,20,30}\n",
    "show(*set1) # 10,20,30\n",
    "\n",
    "#dict1={'x':10,'y':20,'z':30}\n",
    "#show(**dict1)   # unpack dictionary!"
   ]
  },
  {
   "cell_type": "code",
   "execution_count": null,
   "id": "1da87bf1",
   "metadata": {},
   "outputs": [],
   "source": [
    "def add(*args): # (1,2,3,4,5)\n",
    "    total=0\n",
    "    for value in args: #(1,2,3,4,5)\n",
    "        total+=value\n",
    "    return total\n",
    "\n",
    "def calculate(*args): # (1,2,3,4,5)\n",
    "    return add(*args) # 1,2,3,4,5\n",
    "    \n",
    "gross=calculate(1,2,3,4,5)\n",
    "#gross=add(1,2,3,4,5)\n",
    "print(gross)"
   ]
  },
  {
   "cell_type": "code",
   "execution_count": 1,
   "id": "b3150b55",
   "metadata": {},
   "outputs": [
    {
     "name": "stdout",
     "output_type": "stream",
     "text": [
      "outer function called\n",
      "inner function called\n",
      "outer function ends\n"
     ]
    }
   ],
   "source": [
    "def outerfunction():\n",
    "    print(\"outer function called\")\n",
    "    def innerfunction():\n",
    "        print(\"inner function called\")\n",
    "    innerfunction() # call\n",
    "    print(\"outer function ends\")\n",
    "    \n",
    "outerfunction()"
   ]
  },
  {
   "cell_type": "code",
   "execution_count": 9,
   "id": "c36bfd03",
   "metadata": {},
   "outputs": [
    {
     "name": "stdout",
     "output_type": "stream",
     "text": [
      "outer function called eaton\n",
      "inner function called dassault\n",
      "outer function ends dassault\n",
      "outside everything bureau veritas\n"
     ]
    }
   ],
   "source": [
    "company=\"bureau veritas\"\n",
    "\n",
    "def outerfunction():\n",
    "    #global company # declaration uses global reference\n",
    "    company=\"eaton\"\n",
    "    print(\"outer function called\",company)\n",
    "    def innerfunction():\n",
    "        nonlocal company # \n",
    "        company=\"dassault\"\n",
    "        print(\"inner function called\",company)\n",
    "    innerfunction() # call\n",
    "    print(\"outer function ends\",company)\n",
    "    \n",
    "outerfunction()\n",
    "print(\"outside everything\",company)"
   ]
  },
  {
   "cell_type": "code",
   "execution_count": 13,
   "id": "b4e0fb04",
   "metadata": {},
   "outputs": [
    {
     "name": "stdout",
     "output_type": "stream",
     "text": [
      "foo called\n"
     ]
    }
   ],
   "source": [
    "def foo():\n",
    "    print(\"foo called\")\n",
    "    \n",
    "ref=foo\n",
    "ref()"
   ]
  },
  {
   "cell_type": "code",
   "execution_count": 19,
   "id": "32417837",
   "metadata": {},
   "outputs": [
    {
     "name": "stdout",
     "output_type": "stream",
     "text": [
      "bar called\n",
      "foo called\n",
      "Addition is  3000 3000\n"
     ]
    }
   ],
   "source": [
    "def add(x,y):\n",
    "    return x+y\n",
    "\n",
    "def foo():\n",
    "    print(\"foo called\")\n",
    "\n",
    "def bar(func): # reference holds address of foo\n",
    "    print(\"bar called\")\n",
    "    func() # using reference call foo\n",
    "    myadd=add\n",
    "    print(\"Addition is \",myadd(1000,2000),add(1000,2000))\n",
    "    #foo()\n",
    "    \n",
    "bar(foo) # here address of foo gets passed"
   ]
  },
  {
   "cell_type": "code",
   "execution_count": null,
   "id": "30f197f1",
   "metadata": {},
   "outputs": [],
   "source": []
  }
 ],
 "metadata": {
  "kernelspec": {
   "display_name": "Python 3 (ipykernel)",
   "language": "python",
   "name": "python3"
  },
  "language_info": {
   "codemirror_mode": {
    "name": "ipython",
    "version": 3
   },
   "file_extension": ".py",
   "mimetype": "text/x-python",
   "name": "python",
   "nbconvert_exporter": "python",
   "pygments_lexer": "ipython3",
   "version": "3.9.12"
  }
 },
 "nbformat": 4,
 "nbformat_minor": 5
}
