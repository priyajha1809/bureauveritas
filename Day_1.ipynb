{
 "cells": [
  {
   "cell_type": "code",
   "execution_count": null,
   "id": "e8fe04c2",
   "metadata": {},
   "outputs": [],
   "source": [
    "# Note: Everything is an object in python \n",
    "# Note: Everything is created at runtime \n",
    "# id() type()\n",
    "# int/float/str/bool/complex/None immutable objects!\n",
    "value=10\n",
    "print(value,id(value),type(value))\n",
    "myvalue=value # shallow copy \n",
    "value=20\n",
    "print(value,id(value),type(value))\n",
    "print(myvalue,id(myvalue),type(myvalue))\n",
    "value+=1 # if you perform any operation on an immutable object \n",
    "# then it creates a new object at new memory location!\n",
    "print(value,id(value),type(value))\n",
    "value=3.142  # note: there is no double \n",
    "print(value,id(value),type(value))\n",
    "value='a' # note: there is no char # you have only immutable string object\n",
    "print(value,id(value),type(value))\n",
    "value=\"bureau veritas\"\n",
    "print(value,id(value),type(value))\n",
    "value=5+10j # immutable object\n",
    "print(value,id(value),type(value))\n",
    "value=True # bool class\n",
    "print(value,id(value),type(value))\n",
    "value=None\n",
    "print(value,id(value),type(value))\n",
    "print(type(id),type(type))\n"
   ]
  },
  {
   "cell_type": "code",
   "execution_count": null,
   "id": "3db2123b",
   "metadata": {},
   "outputs": [],
   "source": [
    "# Note there are 3 ways of formatting in python\n",
    "# 1. C style of formatting\n",
    "player=\"sachin\"\n",
    "average=98.12345\n",
    "jersey=10\n",
    "print(\"player is %s\\naverage is %.3f\\njersey is %d\"%(player,average,jersey))\n",
    "\n",
    "# 2. str.format() till python 3.5\n",
    "print(\"player is {}\\naverage is {}\\njersey is {}\".format(player,average,jersey))\n",
    "print(\"player is {0} {0} {0} \\naverage is {1} {1} \\njersey is {2}\".format(player,average,jersey))\n",
    "\n",
    "# 3. f-string after 3.6 or higher\n",
    "print(f\"player is {player} {player} {player} \\naverage is {average} {average} \\njersey is {jersey}\")"
   ]
  },
  {
   "cell_type": "code",
   "execution_count": null,
   "id": "2e3dd216",
   "metadata": {},
   "outputs": [],
   "source": [
    "# input() function creates a string object always!\n",
    "\n",
    "var1=input(\"Enter first value \")\n",
    "var2=input(\"Enter second value \")\n",
    "print(f\"Addition of {var1} and {var2} is {var1+var2}\")\n",
    "print(f\"Addition of {type(var1)} and {type(var2)} is {type(var1+var2)}\")"
   ]
  },
  {
   "cell_type": "code",
   "execution_count": null,
   "id": "0c54b29c",
   "metadata": {},
   "outputs": [],
   "source": [
    "var1=int(input(\"Enter first value \"))\n",
    "var2=input(\"Enter second value \")\n",
    "var2=int(var2)\n",
    "print(f\"Addition of {var1} and {var2} is {var1+var2}\")\n",
    "print(f\"Addition of {type(var1)} and {type(var2)} is {type(var1+var2)}\")"
   ]
  },
  {
   "cell_type": "code",
   "execution_count": null,
   "id": "3e82df43",
   "metadata": {},
   "outputs": [],
   "source": [
    "value=3.142\n",
    "print(type(value),value)\n",
    "value=int(value)\n",
    "print(type(value),value)\n",
    "value=str(value)\n",
    "print(type(value),value)\n",
    "value=float(value)\n",
    "print(type(value),value)\n",
    "value=\"3.142\"\n",
    "print(type(value),value)\n",
    "value=float(value)\n",
    "print(type(value),value)\n",
    "value=\"8.8.8.8\"\n",
    "value=float(value)\n",
    "print(type(value),value)"
   ]
  },
  {
   "cell_type": "code",
   "execution_count": null,
   "id": "44b408e4",
   "metadata": {},
   "outputs": [],
   "source": [
    "var1=eval(input(\"Enter first value \"))\n",
    "var2=eval(input(\"Enter second value \"))\n",
    "print(f\"Addition of {var1} and {var2} is {var1+str(var2)}\")\n",
    "#print(f\"Addition of {type(var1)} and {type(var2)} is {type(var1+var2)}\")"
   ]
  },
  {
   "cell_type": "code",
   "execution_count": null,
   "id": "92614a39",
   "metadata": {},
   "outputs": [],
   "source": [
    "player=\"sachin\"\n",
    "jersey=10\n",
    "print(player+str(jersey))\n",
    "print(player*5)\n",
    "print(player.__mul__(5)) # dunder method"
   ]
  },
  {
   "cell_type": "code",
   "execution_count": null,
   "id": "920fc733",
   "metadata": {},
   "outputs": [],
   "source": [
    "# int() float() str() bool() complex() list() tuple() set() dict() eval() conversion functions \n",
    "# generate pay slip of employee\n",
    "# input basic salary \n",
    "# conversion functions\n",
    "# use operators % // \n",
    "# HRA=BS%40 DA=BS%50 GS=HRA+DA+BS+PF+PT NS=GS-(PF+PT) "
   ]
  },
  {
   "cell_type": "code",
   "execution_count": null,
   "id": "e47c3f8d",
   "metadata": {},
   "outputs": [],
   "source": [
    "print(10/3)\n",
    "print(10//3)\n",
    "print(10%3)\n",
    "print(2**16)"
   ]
  },
  {
   "cell_type": "code",
   "execution_count": 7,
   "id": "c9711418",
   "metadata": {},
   "outputs": [
    {
     "name": "stdout",
     "output_type": "stream",
     "text": [
      "can you print\n",
      " \"double quotes\" \n",
      "within double quotes\n",
      "can you print\n",
      " \"double quotes\" \n",
      "within double quotes\n",
      "\n",
      "        you can print 'single quotes'\n",
      "        as well as \"double quotes\"\n",
      "        within triple quotes no need of escape sequences\n",
      "\n",
      "\n",
      "        you can print 'single quotes'\n",
      "        as well as \"double quotes\"\n",
      "        within triple quotes no need of escape sequences\n",
      "\n"
     ]
    }
   ],
   "source": [
    "print(\"can you print\\n \\\"double quotes\\\" \\nwithin double quotes\")\n",
    "print('can you print\\n \"double quotes\" \\nwithin double quotes')\n",
    "print(\"\"\"\n",
    "        you can print 'single quotes'\n",
    "        as well as \"double quotes\"\n",
    "        within triple quotes no need of escape sequences\n",
    "\"\"\")\n",
    "print('''\n",
    "        you can print 'single quotes'\n",
    "        as well as \"double quotes\"\n",
    "        within triple quotes no need of escape sequences\n",
    "''')"
   ]
  },
  {
   "cell_type": "code",
   "execution_count": 29,
   "id": "f2d9bbfa",
   "metadata": {},
   "outputs": [
    {
     "name": "stdout",
     "output_type": "stream",
     "text": [
      "How to write beautiful code in python using PEP 8 How to write beautiful code in python using PEP 8 How to write beautiful code in python using PEP 8\n",
      "H\n",
      "How\n",
      " beautiful code \n",
      " beautiful code \n",
      " euiu oe\n",
      "How to write beautiful code in python using PEP 8\n",
      "8 PEP gnisu nohtyp ni edoc lufituaeb etirw ot woH\n",
      "8\n",
      "python using PEP 8\n",
      "p ni ed\n",
      "python using\n"
     ]
    }
   ],
   "source": [
    "# index slicing operator in string objects\n",
    "# [start:next_to_last:step_count] # [0::1]\n",
    "guideline1=\"How to write beautiful code in python using PEP 8\"\n",
    "print(guideline1,guideline1[:],guideline1[::])\n",
    "print(guideline1[0])\n",
    "print(guideline1[0:3]) \n",
    "print(guideline1[12:28]) \n",
    "print(guideline1[12:28:1]) \n",
    "print(guideline1[12:28:2]) \n",
    "print(guideline1[::1]) \n",
    "print(guideline1[::-1]) \n",
    "print(guideline1[-1]) \n",
    "print(guideline1[-18:]) \n",
    "print(guideline1[-18:-25:-1]) \n",
    "print(guideline1[-18:-6]) "
   ]
  },
  {
   "cell_type": "code",
   "execution_count": 30,
   "id": "178c55d4",
   "metadata": {},
   "outputs": [
    {
     "name": "stdout",
     "output_type": "stream",
     "text": [
      "['__add__', '__class__', '__contains__', '__delattr__', '__dir__', '__doc__', '__eq__', '__format__', '__ge__', '__getattribute__', '__getitem__', '__getnewargs__', '__gt__', '__hash__', '__init__', '__init_subclass__', '__iter__', '__le__', '__len__', '__lt__', '__mod__', '__mul__', '__ne__', '__new__', '__reduce__', '__reduce_ex__', '__repr__', '__rmod__', '__rmul__', '__setattr__', '__sizeof__', '__str__', '__subclasshook__', 'capitalize', 'casefold', 'center', 'count', 'encode', 'endswith', 'expandtabs', 'find', 'format', 'format_map', 'index', 'isalnum', 'isalpha', 'isascii', 'isdecimal', 'isdigit', 'isidentifier', 'islower', 'isnumeric', 'isprintable', 'isspace', 'istitle', 'isupper', 'join', 'ljust', 'lower', 'lstrip', 'maketrans', 'partition', 'removeprefix', 'removesuffix', 'replace', 'rfind', 'rindex', 'rjust', 'rpartition', 'rsplit', 'rstrip', 'split', 'splitlines', 'startswith', 'strip', 'swapcase', 'title', 'translate', 'upper', 'zfill']\n"
     ]
    }
   ],
   "source": [
    "print(dir(str)) # dir function will show all the functions available with string container class"
   ]
  },
  {
   "cell_type": "code",
   "execution_count": 4,
   "id": "043e29c3",
   "metadata": {},
   "outputs": [
    {
     "name": "stdout",
     "output_type": "stream",
     "text": [
      "Help on method_descriptor:\n",
      "\n",
      "find(...)\n",
      "    S.find(sub[, start[, end]]) -> int\n",
      "    \n",
      "    Return the lowest index in S where substring sub is found,\n",
      "    such that sub is contained within S[start:end].  Optional\n",
      "    arguments start and end are interpreted as in slice notation.\n",
      "    \n",
      "    Return -1 on failure.\n",
      "\n",
      "None\n"
     ]
    }
   ],
   "source": [
    "print(help(str.find))"
   ]
  },
  {
   "cell_type": "code",
   "execution_count": null,
   "id": "a6bb2c20",
   "metadata": {},
   "outputs": [],
   "source": []
  }
 ],
 "metadata": {
  "kernelspec": {
   "display_name": "Python 3 (ipykernel)",
   "language": "python",
   "name": "python3"
  },
  "language_info": {
   "codemirror_mode": {
    "name": "ipython",
    "version": 3
   },
   "file_extension": ".py",
   "mimetype": "text/x-python",
   "name": "python",
   "nbconvert_exporter": "python",
   "pygments_lexer": "ipython3",
   "version": "3.9.12"
  }
 },
 "nbformat": 4,
 "nbformat_minor": 5
}
