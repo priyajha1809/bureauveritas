{
 "cells": [
  {
   "cell_type": "code",
   "execution_count": null,
   "id": "3e079102",
   "metadata": {},
   "outputs": [],
   "source": [
    "string=\"python is beautiful\"\n",
    "print(string.isalpha())\n",
    "print(string.islower())\n",
    "print(string.isupper())\n",
    "print(string.isdigit())"
   ]
  },
  {
   "cell_type": "code",
   "execution_count": null,
   "id": "0c05fb3d",
   "metadata": {},
   "outputs": [],
   "source": [
    "string=\"python is easy and simple\"\n",
    "print(string.ljust(100))\n",
    "print(string.rjust(100))\n",
    "print(string.center(100))\n",
    "print(string.upper())\n",
    "print(string.title())\n",
    "print(string.capitalize())\n",
    "print(string.lower())\n",
    "print(string.casefold())\n",
    "print(string.swapcase())"
   ]
  },
  {
   "cell_type": "code",
   "execution_count": null,
   "id": "72bd438a",
   "metadata": {},
   "outputs": [],
   "source": [
    "string=\"          python           \"\n",
    "string=string.strip()\n",
    "print(string)\n",
    "string=\"python is python\"\n",
    "print(string.lstrip(\"python\"))\n",
    "print(string.rstrip(\"python\"))\n",
    "print(string.strip(\"python\"))"
   ]
  },
  {
   "cell_type": "code",
   "execution_count": null,
   "id": "858e9e99",
   "metadata": {},
   "outputs": [],
   "source": [
    "price=\"Rs 13,599.99/-\"\n",
    "price=price.strip(\"Rs\").strip(\"/-\")\n",
    "print(price)\n",
    "price=price.replace(\",\",\"\")\n",
    "print(price,type(price))\n",
    "price=float(price)\n",
    "print(price,type(price))"
   ]
  },
  {
   "cell_type": "code",
   "execution_count": null,
   "id": "ad6df8db",
   "metadata": {},
   "outputs": [],
   "source": [
    "date=\"20-Jun-2023\"\n",
    "parse_date=date.split(\"-\")\n",
    "print(\"Day is \",parse_date[0])\n",
    "print(\"Month is \",parse_date[1])\n",
    "print(\"Year is \",parse_date[2])"
   ]
  },
  {
   "cell_type": "code",
   "execution_count": null,
   "id": "bbe7b110",
   "metadata": {},
   "outputs": [],
   "source": [
    "email=\"devadatta@gmail.com\"\n",
    "parse_email=email.split(\"@\")\n",
    "print(\"User name is \",parse_email[0])\n",
    "print(\"Domain is \",parse_email[1])"
   ]
  },
  {
   "cell_type": "code",
   "execution_count": null,
   "id": "98ca6a5c",
   "metadata": {},
   "outputs": [],
   "source": [
    "company=['g','o','o','g','l','e']\n",
    "print(\"\".join(company))\n",
    "print(\"\\t\".join(company))\n",
    "print(\",\".join(company))"
   ]
  },
  {
   "cell_type": "code",
   "execution_count": null,
   "id": "840250b7",
   "metadata": {},
   "outputs": [],
   "source": [
    "fact=\"python supports multiple varible assigments\\\n",
    "e.g. product,price,quantity=mobile,50000,3 python\\\n",
    "e.g. company,employee=vinsys,deva python\"\n",
    "print(fact.find(\"p\"))\n",
    "print(fact.find(\"p\",3))\n",
    "print(fact.index(\"e.g.\"))\n",
    "print(fact.index(\"e.g.\",46))\n",
    "print(fact.find(\"ansible\"))\n",
    "try:\n",
    "    print(fact.index(\"ansible\"))\n",
    "except ValueError as errmsg:\n",
    "    print(errmsg)\n",
    "print(fact.count('python'))\n",
    "print(len(fact))"
   ]
  },
  {
   "cell_type": "code",
   "execution_count": null,
   "id": "fa36d818",
   "metadata": {},
   "outputs": [],
   "source": [
    "string=\"python\"\n",
    "print(string)\n",
    "#del string[0] #  'str' object doesn't support item deletion\n",
    "string[0]=\"P\" # 'str' object does not support item assignment"
   ]
  },
  {
   "cell_type": "code",
   "execution_count": null,
   "id": "c491fc12",
   "metadata": {},
   "outputs": [],
   "source": [
    "network_id=\"192.168\"\n",
    "host_id=\"10.5\"\n",
    "ip_address=network_id+\".\"+host_id # Traditional way\n",
    "print(ip_address)\n",
    "ip_address=f\"{network_id}.{host_id}\" # pythonic way \n",
    "print(ip_address)"
   ]
  },
  {
   "cell_type": "code",
   "execution_count": null,
   "id": "5952b404",
   "metadata": {},
   "outputs": [],
   "source": [
    "# collections (data structures)\n",
    "# list [] tuple () dictionary {key:value} set {}\n",
    "# list is mutable collection of heteregeous elements\n",
    "\n",
    "mylist=[\"sachin\",10,\"india\",78.45,True,(6+10j)]\n",
    "print(mylist,type(mylist))\n",
    "print(\"Player is \",mylist[0]) # first way to unpack values using index slicing operator\n",
    "print(\"Jersey is \",mylist[1])\n",
    "player,jersey,country,average,retired,number=mylist\n",
    "print(\"Player is \",player) # \n",
    "print(\"Jersey is \",jersey)"
   ]
  },
  {
   "cell_type": "code",
   "execution_count": null,
   "id": "b443baa5",
   "metadata": {},
   "outputs": [],
   "source": [
    "print(dir(list))"
   ]
  },
  {
   "cell_type": "code",
   "execution_count": null,
   "id": "30d72ccd",
   "metadata": {},
   "outputs": [],
   "source": [
    "banks=[\"axis\",\"icici\",\"kotak\"]\n",
    "print(banks,id(banks))\n",
    "banks[0]=\"dena bank\"\n",
    "print(banks,id(banks))\n",
    "del banks[-1]\n",
    "print(banks,id(banks))"
   ]
  },
  {
   "cell_type": "code",
   "execution_count": null,
   "id": "f1be2916",
   "metadata": {},
   "outputs": [],
   "source": [
    "banks=[\"axis\",\"icici\",\"kotak\"]\n",
    "print(id(banks))\n",
    "banks.append(\"yes bank\")\n",
    "banks.append(\"bob\")\n",
    "print(banks)\n",
    "banks.insert(0,\"sbi\")\n",
    "banks.insert(3,\"idbi\")\n",
    "print(banks)\n",
    "newbanks=[\"dueshe\",\"pnb\",\"psb\"]\n",
    "banks.append(newbanks) # will create list of lists\n",
    "print(banks)\n",
    "print(banks[7])\n",
    "print(banks[7][0],id(banks))\n",
    "#print(id(banks[7]))\n",
    "#copy_banks=banks # shallow copy \n",
    "copy_banks=banks.copy() # deep copy\n",
    "copy_banks.clear()\n",
    "print(copy_banks,id(copy_banks))\n",
    "print(banks,id(banks))"
   ]
  },
  {
   "cell_type": "code",
   "execution_count": null,
   "id": "af03dfae",
   "metadata": {},
   "outputs": [],
   "source": [
    "numbers=[1,2,3,4,5]\n",
    "newnumbers=[7,8,9,10]\n",
    "numbers.append(newnumbers)\n",
    "print(numbers)\n",
    "del numbers[-1]\n",
    "print(numbers)"
   ]
  },
  {
   "cell_type": "code",
   "execution_count": null,
   "id": "2e0930e7",
   "metadata": {},
   "outputs": [],
   "source": [
    "# In python function returns None by default!\n",
    "banks=[\"axis\",\"icici\",\"kotak\"]\n",
    "print(banks)\n",
    "banks[1]=\"sbi\"  # using index slicing operator # update operation\n",
    "banks.append(\"idbi\") \n",
    "print(banks)\n",
    "print(banks.pop()) # pop returns poped element\n",
    "print(banks)\n",
    "banks.remove(\"sbi\") # remove returns None \n",
    "print(banks)\n",
    "print(banks.pop(0)) \n",
    "print(banks)\n",
    "del banks[0]\n",
    "print(banks)"
   ]
  },
  {
   "cell_type": "code",
   "execution_count": null,
   "id": "04035ce4",
   "metadata": {},
   "outputs": [],
   "source": [
    "print(help(list.pop))"
   ]
  },
  {
   "cell_type": "code",
   "execution_count": null,
   "id": "6cf1d85d",
   "metadata": {},
   "outputs": [],
   "source": [
    "banks=[\"axis\",\"icici\",\"kotak\",\"axis\",\"axis\"]\n",
    "print(banks.count(\"axis\"))\n",
    "print(\"Total number of banks\",len(banks))\n",
    "print(banks.index(\"axis\"))\n",
    "print(banks.index(\"axis\",1))\n",
    "print(banks.index(\"axis\",4))\n",
    "print(banks)\n",
    "#banks.sort()\n",
    "#banks.sort(reverse=True)\n",
    "banks.reverse() # prints elements in reverse order!\n",
    "print(banks)"
   ]
  },
  {
   "cell_type": "code",
   "execution_count": null,
   "id": "5d7fbe44",
   "metadata": {},
   "outputs": [],
   "source": []
  },
  {
   "cell_type": "code",
   "execution_count": null,
   "id": "5abe851d",
   "metadata": {},
   "outputs": [],
   "source": [
    "banks=(\"axis\",\"icici\",\"kotak\")\n",
    "print(banks,id(banks))\n",
    "#banks[0]=\"dena bank\" # 'tuple' object does not support item assignment\n",
    "#del banks[-1] # 'tuple' object doesn't support item deletion\n",
    "print(banks,id(banks))\n",
    "mybanks=banks\n",
    "print(mybanks,id(banks))"
   ]
  },
  {
   "cell_type": "code",
   "execution_count": null,
   "id": "297a3db2",
   "metadata": {},
   "outputs": [],
   "source": [
    "print(dir(tuple))"
   ]
  },
  {
   "cell_type": "code",
   "execution_count": null,
   "id": "6ad0ec23",
   "metadata": {},
   "outputs": [],
   "source": [
    "nse=(\"techmahindra\",\"20-jun-2023\",800.99,100)\n",
    "print(\"company=\",nse[0])\n",
    "print(\"date=\",nse[1])\n",
    "print(\"price=\",nse[2])\n",
    "print(\"shares=\",nse[3])\n",
    "\n",
    "company,date,price,shares=nse\n",
    "print(\"company=\",company)\n",
    "print(\"date=\",date)\n",
    "print(\"price=\",price)\n",
    "print(\"shares=\",shares)\n",
    "\n",
    "print(\"using for.....\")\n",
    "print(nse)\n",
    "for record in nse: # unpacking using for loop\n",
    "    print(record)"
   ]
  },
  {
   "cell_type": "code",
   "execution_count": null,
   "id": "4d7654db",
   "metadata": {},
   "outputs": [],
   "source": [
    "nse=[[\"accenture\",1000,567.45],[\"ibm\",2000,1800.99],[\"olectra\",3000,899.67]]\n",
    "print(nse)\n",
    "print(\"Total number of records \",len(nse))\n",
    "print(\"First record is\", nse[0])\n",
    "print(\"Last record is\", nse[-1])\n",
    "print(\"Price of olectra is \",nse[-1][-1],nse[2][2])\n",
    "nse.append([\"capgemini\",4000,1234.45])\n",
    "nse.insert(1,[\"wipro\",6000,99999.45])\n",
    "print(nse)\n",
    "nse[1][0]=\"infosys\" # update record\n",
    "print(nse)\n",
    "nse.pop(3)\n",
    "print(nse)"
   ]
  },
  {
   "cell_type": "code",
   "execution_count": null,
   "id": "aba14080",
   "metadata": {},
   "outputs": [],
   "source": [
    "nse=[(\"accenture\",1000,567.45),(\"ibm\",2000,1800.99),[\"olectra\",3000,899.67]]\n",
    "#del nse[0]\n",
    "#print(nse)\n",
    "#del nse[0][0] # 'tuple' object doesn't support item deletion\n",
    "#nse[1][0]=\"vodafone\"\n",
    "print(nse)"
   ]
  },
  {
   "cell_type": "code",
   "execution_count": null,
   "id": "83b05ee9",
   "metadata": {},
   "outputs": [],
   "source": [
    "# list of list # create / update / delete / read\n",
    "# list of tuples # create / read / delete but update is not possible for record \n",
    "# tuple of list # update record but update database not possible  # insert/ delete not possible\n",
    "# tuple of tuple # only read possible"
   ]
  },
  {
   "cell_type": "code",
   "execution_count": null,
   "id": "9c1d08df",
   "metadata": {},
   "outputs": [],
   "source": [
    "nse=([\"accenture\",1000,567.45],[\"ibm\",2000,1800.99],[\"olectra\",3000,899.67])\n",
    "del nse[0][0]\n",
    "print(nse)\n",
    "nse[2].append(\"20-Jun-2023\")\n",
    "print(nse)"
   ]
  },
  {
   "cell_type": "code",
   "execution_count": 4,
   "id": "bdf74cf9",
   "metadata": {},
   "outputs": [
    {
     "name": "stdout",
     "output_type": "stream",
     "text": [
      "['sachin', 'sehwag', 'virat', 'rohit'] 3139027387904\n",
      "['sehwag', 'virat', 'rohit'] 3139027387904\n",
      "sehwag\n"
     ]
    }
   ],
   "source": [
    "players=[\"sachin\",\"sehwag\",\"virat\",\"rohit\"]\n",
    "print(players,id(players))\n",
    "players.remove(\"sachin\")\n",
    "print(players,id(players))\n",
    "print(players[0])"
   ]
  },
  {
   "cell_type": "code",
   "execution_count": null,
   "id": "5a77652f",
   "metadata": {},
   "outputs": [],
   "source": []
  }
 ],
 "metadata": {
  "kernelspec": {
   "display_name": "Python 3 (ipykernel)",
   "language": "python",
   "name": "python3"
  },
  "language_info": {
   "codemirror_mode": {
    "name": "ipython",
    "version": 3
   },
   "file_extension": ".py",
   "mimetype": "text/x-python",
   "name": "python",
   "nbconvert_exporter": "python",
   "pygments_lexer": "ipython3",
   "version": "3.9.12"
  }
 },
 "nbformat": 4,
 "nbformat_minor": 5
}
